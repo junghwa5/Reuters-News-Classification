{
 "cells": [
  {
   "cell_type": "code",
   "execution_count": 13,
   "id": "70cde104",
   "metadata": {},
   "outputs": [],
   "source": [
    "import numpy as np\n",
    "import pandas as pd\n",
    "from tensorflow.keras.datasets import reuters\n",
    "%matplotlib inline\n",
    "import matplotlib.pyplot as plt\n",
    "import seaborn as sns\n",
    "\n",
    "from tensorflow.keras.preprocessing.sequence import pad_sequences\n",
    "from sklearn.preprocessing import MinMaxScaler\n",
    "\n",
    "from sklearn.svm import SVC\n",
    "#from sklearn.linear_model import SGDClassifier\n",
    "#from sklearn.pipeline import Pipeline\n",
    "\n",
    "plt.rcParams['font.family'] = 'Malgun Gothic'"
   ]
  },
  {
   "cell_type": "code",
   "execution_count": 4,
   "id": "5ceb26de",
   "metadata": {},
   "outputs": [],
   "source": [
    "# train, test 분리\n",
    "(x_train, y_train), (x_test, y_test) = reuters.load_data(num_words=1000, test_split=0.2)\n",
    "\n",
    "# 패딩\n",
    "x_train = pad_sequences(x_train, maxlen=100)\n",
    "x_test = pad_sequences(x_test, maxlen=100)"
   ]
  },
  {
   "cell_type": "code",
   "execution_count": 11,
   "id": "dfd8cade",
   "metadata": {},
   "outputs": [],
   "source": [
    "scaler = MinMaxScaler()\n",
    "scaler.fit(x_train)\n",
    "\n",
    "x_train_scaled = scaler.transform(x_train)\n",
    "x_test_scaled = scaler.transform(x_test)"
   ]
  },
  {
   "cell_type": "code",
   "execution_count": 14,
   "id": "9efc69ed",
   "metadata": {},
   "outputs": [
    {
     "data": {
      "text/plain": [
       "SVC(C=0.1, gamma=0.1)"
      ]
     },
     "execution_count": 14,
     "metadata": {},
     "output_type": "execute_result"
    }
   ],
   "source": [
    "model = SVC(kernel='rbf', gamma=0.1, C=0.1)\n",
    "model.fit(x_train, y_train)"
   ]
  },
  {
   "cell_type": "markdown",
   "id": "b18865c4",
   "metadata": {},
   "source": [
    "C(cost) : 어느 정도의 오차를 허용할지에 대한 파라미터<br>\n",
    "kernel : 어떤 커널함수를 사용할지에 대한 파라미터<br>\n",
    "\tlinear, sigmoid, rbf, poly  \n",
    "degree : 어느 차수까지의 다항차수로 분류를 할 지에 대한 파라미터<br>\n",
    "\t커널함수가 'poly' 일 때 사용됨  \n",
    "gamma : 곡률 경계에 대한 파라미터<br>\n",
    "\t'rbf', 'poly', 'sigmoid'일 때 튜닝하는 값  \n",
    "coef0 : 상수값으로써 'poly', 'sigmoid'일 때 튜닝을 진행"
   ]
  },
  {
   "cell_type": "code",
   "execution_count": 15,
   "id": "78a4485c",
   "metadata": {},
   "outputs": [],
   "source": [
    "predicted_svm = model.predict(x_test)"
   ]
  },
  {
   "cell_type": "code",
   "execution_count": 16,
   "id": "9303f0a7",
   "metadata": {},
   "outputs": [
    {
     "name": "stdout",
     "output_type": "stream",
     "text": [
      "정확도 = 0.362 \n"
     ]
    }
   ],
   "source": [
    "print('정확도 = %.3f ' % model.score(x_test, y_test))"
   ]
  },
  {
   "cell_type": "code",
   "execution_count": null,
   "id": "b224cf91",
   "metadata": {},
   "outputs": [],
   "source": []
  }
 ],
 "metadata": {
  "kernelspec": {
   "display_name": "Python 3",
   "language": "python",
   "name": "python3"
  },
  "language_info": {
   "codemirror_mode": {
    "name": "ipython",
    "version": 3
   },
   "file_extension": ".py",
   "mimetype": "text/x-python",
   "name": "python",
   "nbconvert_exporter": "python",
   "pygments_lexer": "ipython3",
   "version": "3.8.8"
  }
 },
 "nbformat": 4,
 "nbformat_minor": 5
}
