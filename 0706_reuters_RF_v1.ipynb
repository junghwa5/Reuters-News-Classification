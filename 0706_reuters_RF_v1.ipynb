{
 "cells": [
  {
   "cell_type": "code",
   "execution_count": 32,
   "id": "a2018328",
   "metadata": {},
   "outputs": [],
   "source": [
    "from tensorflow.keras.datasets import reuters\n",
    "import numpy as np\n",
    "import pandas as pd\n",
    "import matplotlib.pyplot as plt\n",
    "\n",
    "from sklearn.ensemble import RandomForestClassifier\n",
    "from tensorflow.keras.preprocessing.sequence import pad_sequences\n",
    "from sklearn.metrics import accuracy_score, precision_score, recall_score, roc_auc_score\n",
    "from numpy import argmax\n",
    "\n",
    "plt.rcParams['font.family'] = 'Malgun Gothic'"
   ]
  },
  {
   "cell_type": "code",
   "execution_count": 22,
   "id": "f6676f9f",
   "metadata": {},
   "outputs": [
    {
     "name": "stderr",
     "output_type": "stream",
     "text": [
      "C:\\anaconda3\\lib\\site-packages\\tensorflow\\python\\keras\\datasets\\reuters.py:148: VisibleDeprecationWarning: Creating an ndarray from ragged nested sequences (which is a list-or-tuple of lists-or-tuples-or ndarrays with different lengths or shapes) is deprecated. If you meant to do this, you must specify 'dtype=object' when creating the ndarray\n",
      "  x_train, y_train = np.array(xs[:idx]), np.array(labels[:idx])\n",
      "C:\\anaconda3\\lib\\site-packages\\tensorflow\\python\\keras\\datasets\\reuters.py:149: VisibleDeprecationWarning: Creating an ndarray from ragged nested sequences (which is a list-or-tuple of lists-or-tuples-or ndarrays with different lengths or shapes) is deprecated. If you meant to do this, you must specify 'dtype=object' when creating the ndarray\n",
      "  x_test, y_test = np.array(xs[idx:]), np.array(labels[idx:])\n"
     ]
    }
   ],
   "source": [
    "# 데이터를 train과 test로 나눔\n",
    "# 가장 많이 사용된 단어 1000개 사용\n",
    "(x_train, y_train), (x_test, y_test) = reuters.load_data(num_words=1000, test_split=0.2)"
   ]
  },
  {
   "cell_type": "code",
   "execution_count": 23,
   "id": "e03dc550",
   "metadata": {},
   "outputs": [],
   "source": [
    "# 패딩\n",
    "x_train = pad_sequences(x_train, maxlen=100)\n",
    "x_test = pad_sequences(x_test, maxlen=100)"
   ]
  },
  {
   "cell_type": "code",
   "execution_count": 24,
   "id": "407561d2",
   "metadata": {},
   "outputs": [],
   "source": [
    "# train과 validation 분리\n",
    "val_n = round(len(x_train)*0.3)\n",
    "\n",
    "x_val = x_train[:val_n] # train의 30%를 validation으로 사용\n",
    "x_train = x_train[val_n:]\n",
    "y_val = y_train[:val_n] # train의 30%를 validation으로 사용\n",
    "y_train = y_train[val_n:]"
   ]
  },
  {
   "cell_type": "code",
   "execution_count": 25,
   "id": "fa5ed29b",
   "metadata": {},
   "outputs": [
    {
     "data": {
      "text/plain": [
       "RandomForestClassifier()"
      ]
     },
     "execution_count": 25,
     "metadata": {},
     "output_type": "execute_result"
    }
   ],
   "source": [
    "# 랜덤 포레스트 분류기에 100개의 의사결정 트리를 사용한다.\n",
    "forest=RandomForestClassifier(n_estimators=100)\n",
    "\n",
    "# 단어 묶음을 벡터화한 데이터와 정답 데이터를 가지고 학습을 시작한다.\n",
    "forest.fit(x_train, y_train)"
   ]
  },
  {
   "cell_type": "code",
   "execution_count": 26,
   "id": "b7565a8c",
   "metadata": {},
   "outputs": [
    {
     "name": "stdout",
     "output_type": "stream",
     "text": [
      "accuracy: 0.479\n",
      "Precision: 0.386\n",
      "recall: 0.109\n"
     ]
    },
    {
     "name": "stderr",
     "output_type": "stream",
     "text": [
      "C:\\anaconda3\\lib\\site-packages\\sklearn\\metrics\\_classification.py:1245: UndefinedMetricWarning: Precision is ill-defined and being set to 0.0 in labels with no predicted samples. Use `zero_division` parameter to control this behavior.\n",
      "  _warn_prf(average, modifier, msg_start, len(result))\n"
     ]
    }
   ],
   "source": [
    "rf_preds = forest.predict(x_val)\n",
    "\n",
    "print('accuracy: {:0.3f}'.format(accuracy_score(y_val, rf_preds)))\n",
    "print('Precision: {:0.3f}'.format(precision_score(y_val, rf_preds, average='macro')))\n",
    "print('recall: {:0.3f}'.format(recall_score(y_val, rf_preds, average='macro')))"
   ]
  },
  {
   "cell_type": "code",
   "execution_count": 27,
   "id": "0b0b0821",
   "metadata": {},
   "outputs": [
    {
     "name": "stdout",
     "output_type": "stream",
     "text": [
      "최적 하이퍼 파라미터:  {'max_depth': 12, 'min_samples_leaf': 4, 'min_samples_split': 4}\n",
      "최적 정확도: 0.464\n"
     ]
    }
   ],
   "source": [
    "from sklearn.model_selection import GridSearchCV\n",
    "\n",
    "params = { 'min_samples_split' : [4, 8, 16, 20],\n",
    "           'min_samples_leaf' : [4, 8, 12, 18],\n",
    "           'max_depth' : [4, 6, 8, 10, 12]\n",
    "         }\n",
    "\n",
    "rf_clf = RandomForestClassifier(random_state = 2, n_jobs = -1)\n",
    "grid_cv = GridSearchCV(rf_clf, param_grid = params, cv = 3, n_jobs = -1)\n",
    "grid_cv.fit(x_train, y_train)\n",
    "\n",
    "print('최적 하이퍼 파라미터: ', grid_cv.best_params_)\n",
    "print('최적 정확도: {:.3f}'.format(grid_cv.best_score_))"
   ]
  },
  {
   "cell_type": "markdown",
   "id": "0a3205d2",
   "metadata": {},
   "source": [
    "n_estimators : 결정트리의 개수<br>\n",
    "\t개수가 늘어날수록 성능은 높아지지만 시간이 오래걸림  \n",
    "min_samples_split : 노드를 분할하기 위한 최소한의 샘플 데이터 수<br>\n",
    "\t과적합 제어하는데 사용  \n",
    "min_samples_leaf : leaf노드가 되기 위해 필요한 최소한의 샘플 데이터 수<br>\n",
    "\t과적합 제어하는데 사용  \n",
    "max_features : 최적 분할을 위해 고려해야 할 최대 feature 개수<br>\n",
    "max_depth : 트리의 최대 깊이<br>\n",
    "\t깊이가 깊어지면 과적합될 수 있음  \n",
    "max_leaf_nodes : leaf노드의 최대개수"
   ]
  },
  {
   "cell_type": "code",
   "execution_count": 28,
   "id": "7ad09ae2",
   "metadata": {},
   "outputs": [
    {
     "name": "stdout",
     "output_type": "stream",
     "text": [
      "accuracy: 0.463\n",
      "Precision: 0.179\n",
      "recall: 0.055\n"
     ]
    },
    {
     "name": "stderr",
     "output_type": "stream",
     "text": [
      "C:\\anaconda3\\lib\\site-packages\\sklearn\\metrics\\_classification.py:1245: UndefinedMetricWarning: Precision is ill-defined and being set to 0.0 in labels with no predicted samples. Use `zero_division` parameter to control this behavior.\n",
      "  _warn_prf(average, modifier, msg_start, len(result))\n"
     ]
    }
   ],
   "source": [
    "# gridsearch로 찾은 최적 하이퍼파라미터 사용\n",
    "rf_clf_new = RandomForestClassifier(n_estimators = 100, \n",
    "                                max_depth = 12,\n",
    "                                min_samples_leaf = 4,\n",
    "                                min_samples_split = 4,\n",
    "                                random_state = 2,\n",
    "                                n_jobs = -1)\n",
    "rf_clf_new.fit(x_train, y_train)\n",
    "pred_new = rf_clf_new.predict(x_val)\n",
    "print('accuracy: {:.3f}'.format(accuracy_score(y_val, pred_new)))\n",
    "print('Precision: {:0.3f}'.format(precision_score(y_val, pred_new, average='macro')))\n",
    "print('recall: {:0.3f}'.format(recall_score(y_val, pred_new, average='macro')))"
   ]
  },
  {
   "cell_type": "code",
   "execution_count": 30,
   "id": "5b1b32d3",
   "metadata": {},
   "outputs": [
    {
     "name": "stdout",
     "output_type": "stream",
     "text": [
      "accuracy: 0.483\n",
      "Precision: 0.154\n",
      "recall: 0.069\n"
     ]
    },
    {
     "name": "stderr",
     "output_type": "stream",
     "text": [
      "C:\\anaconda3\\lib\\site-packages\\sklearn\\metrics\\_classification.py:1245: UndefinedMetricWarning: Precision is ill-defined and being set to 0.0 in labels with no predicted samples. Use `zero_division` parameter to control this behavior.\n",
      "  _warn_prf(average, modifier, msg_start, len(result))\n"
     ]
    }
   ],
   "source": [
    "rf_preds_t = rf_clf_new.predict(x_test)\n",
    "\n",
    "print('accuracy: {:0.3f}'.format(accuracy_score(y_test, rf_preds_t)))\n",
    "print('Precision: {:0.3f}'.format(precision_score(y_test, rf_preds_t, average='macro')))\n",
    "print('recall: {:0.3f}'.format(recall_score(y_test, rf_preds_t, average='macro')))"
   ]
  },
  {
   "cell_type": "code",
   "execution_count": 34,
   "id": "060ca398",
   "metadata": {},
   "outputs": [
    {
     "name": "stdout",
     "output_type": "stream",
     "text": [
      "True : 1, Predict : 3\n",
      "True : 3, Predict : 3\n",
      "True : 4, Predict : 4\n",
      "True : 24, Predict : 4\n",
      "True : 19, Predict : 3\n",
      "True : 20, Predict : 20\n",
      "True : 9, Predict : 4\n",
      "True : 4, Predict : 3\n",
      "True : 25, Predict : 4\n",
      "True : 21, Predict : 4\n",
      "True : 3, Predict : 3\n",
      "True : 8, Predict : 3\n",
      "True : 11, Predict : 4\n",
      "True : 4, Predict : 4\n",
      "True : 18, Predict : 4\n",
      "15개 중 모델이 일치한 것의 개수 :  5\n"
     ]
    }
   ],
   "source": [
    "# 모델 사용결과\n",
    "xhat_idx = np.random.choice(x_test.shape[0], 15)\n",
    "xhat = x_test[xhat_idx]\n",
    "yhat = rf_clf_new.predict(xhat)\n",
    "\n",
    "num=0\n",
    "for i in range(15):\n",
    "    print('True : ' + str(y_test[xhat_idx[i]]) + ', Predict : ' + str(yhat[i]))\n",
    "    if str(y_test[xhat_idx[i]]) == str(yhat[i]):\n",
    "        num+=1\n",
    "\n",
    "print(\"15개 중 모델이 일치한 것의 개수 : \", num)"
   ]
  },
  {
   "cell_type": "code",
   "execution_count": null,
   "id": "2a7feadb",
   "metadata": {},
   "outputs": [],
   "source": []
  }
 ],
 "metadata": {
  "kernelspec": {
   "display_name": "Python 3",
   "language": "python",
   "name": "python3"
  },
  "language_info": {
   "codemirror_mode": {
    "name": "ipython",
    "version": 3
   },
   "file_extension": ".py",
   "mimetype": "text/x-python",
   "name": "python",
   "nbconvert_exporter": "python",
   "pygments_lexer": "ipython3",
   "version": "3.8.8"
  }
 },
 "nbformat": 4,
 "nbformat_minor": 5
}
