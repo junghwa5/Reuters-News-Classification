{
 "cells": [
  {
   "cell_type": "code",
   "execution_count": 75,
   "id": "0d54ca3e",
   "metadata": {},
   "outputs": [],
   "source": [
    "from tensorflow.keras.datasets import reuters\n",
    "import numpy as np\n",
    "import pandas as pd\n",
    "import matplotlib.pyplot as plt\n",
    "\n",
    "from tensorflow.keras.models import Sequential\n",
    "from tensorflow.keras.preprocessing.sequence import pad_sequences\n",
    "from sklearn.linear_model import LogisticRegression\n",
    "from sklearn.metrics import accuracy_score, precision_score, recall_score, roc_auc_score\n",
    "\n",
    "plt.rcParams['font.family'] = 'Malgun Gothic'"
   ]
  },
  {
   "cell_type": "code",
   "execution_count": 60,
   "id": "99401d6a",
   "metadata": {},
   "outputs": [],
   "source": [
    "# 데이터를 train과 test로 나눔\n",
    "# 가장 많이 사용된 단어 1000개 사용\n",
    "(x_train, y_train), (x_test, y_test) = reuters.load_data(num_words=1000, test_split=0.2)"
   ]
  },
  {
   "cell_type": "code",
   "execution_count": 61,
   "id": "8d598c3f",
   "metadata": {},
   "outputs": [],
   "source": [
    "# 패딩\n",
    "x_train = pad_sequences(x_train, maxlen=100)\n",
    "x_test = pad_sequences(x_test, maxlen=100)"
   ]
  },
  {
   "cell_type": "code",
   "execution_count": 62,
   "id": "5e5b14f3",
   "metadata": {},
   "outputs": [],
   "source": [
    "# train과 validation 분리\n",
    "val_n = round(len(x_train)*0.3)\n",
    "\n",
    "x_val = x_train[:val_n] # train의 30%를 validation으로 사용\n",
    "x_train = x_train[val_n:]\n",
    "y_val = y_train[:val_n] # train의 30%를 validation으로 사용\n",
    "y_train = y_train[val_n:]"
   ]
  },
  {
   "cell_type": "code",
   "execution_count": 68,
   "id": "fd75efed",
   "metadata": {},
   "outputs": [
    {
     "data": {
      "text/plain": [
       "LogisticRegression()"
      ]
     },
     "execution_count": 68,
     "metadata": {},
     "output_type": "execute_result"
    }
   ],
   "source": [
    "# 모델 적용\n",
    "classifier = LogisticRegression()\n",
    "classifier.fit(x_train, y_train)"
   ]
  },
  {
   "cell_type": "markdown",
   "id": "bdedf4aa",
   "metadata": {},
   "source": [
    "solver : 최적화에 사용할 알고리즘 결정('newton-cg', 'lbfgs', 'liblinear', 'sag', 'saga')<br>\n",
    "class_weight : 클래스에 대한 가중치들의 값<br>\n",
    "max_iter : solver가 수렴하게 만드는 최대 반복횟수<br>\n",
    "C : cost function, L1 혹은 L2 제약조건의 강도 설정<br>\n",
    "L1 규제 : 손실함수에 가중치의 절대값을 더하는 방법(이동거리 = 벡터 성분 각각을 더한 값)  \n",
    "L2 규제 : 손실함수에 가중치에 대한 L2 norm을 더함(이동거리를 유클리디안 거리로 계산)"
   ]
  },
  {
   "cell_type": "code",
   "execution_count": 69,
   "id": "5b967052",
   "metadata": {
    "scrolled": true
   },
   "outputs": [
    {
     "name": "stdout",
     "output_type": "stream",
     "text": [
      "accuracy: 0.314\n",
      "Precision: 0.063\n",
      "recall: 0.063\n"
     ]
    }
   ],
   "source": [
    "lr_preds = classifier.predict(x_val)\n",
    "\n",
    "print('accuracy: {:0.3f}'.format(accuracy_score(y_val, lr_preds)))\n",
    "print('Precision: {:0.3f}'.format(precision_score(y_val, lr_preds, average='macro')))\n",
    "print('recall: {:0.3f}'.format(recall_score(y_val, lr_preds, average='macro')))\n",
    "#print('roc_auc: {:0.3f}'.format(roc_auc_score(y_val , lr_preds, multi_class='ovo')))"
   ]
  },
  {
   "cell_type": "code",
   "execution_count": 70,
   "id": "42a1112d",
   "metadata": {},
   "outputs": [
    {
     "name": "stdout",
     "output_type": "stream",
     "text": [
      "최적 하이퍼 파라미터:{'C': 0.1}, 최적 정확도:0.303\n"
     ]
    }
   ],
   "source": [
    "import warnings\n",
    "warnings.filterwarnings(action='ignore')\n",
    "from sklearn.model_selection import GridSearchCV\n",
    "\n",
    "params={'C':[0.01, 0.1, 1, 5, 10]}\n",
    "\n",
    "grid_clf = GridSearchCV(classifier, param_grid=params, scoring='accuracy', cv=3)\n",
    "grid_clf.fit(x_train, y_train)\n",
    "\n",
    "print('최적 하이퍼 파라미터:{0}, 최적 정확도:{1:.3f}'.format(grid_clf.best_params_, grid_clf.best_score_))"
   ]
  },
  {
   "cell_type": "markdown",
   "id": "8c774eb6",
   "metadata": {},
   "source": [
    "GridSearchCV : 하이퍼파라미터를 순차적으로 입력해 학습을 하고 측정을 하면서 가장 좋은 파라미터를 알려줌<br>\n",
    "param_grid : 파라미터 딕셔너리(파라미터 명과 사용될 여러 파라미터 값 지정)  \n",
    "cv : 교차 검증을 위해 분할되는 폴드 수"
   ]
  },
  {
   "cell_type": "code",
   "execution_count": 71,
   "id": "5b750ede",
   "metadata": {},
   "outputs": [
    {
     "name": "stdout",
     "output_type": "stream",
     "text": [
      "accuracy: 0.322\n",
      "Precision: 0.063\n",
      "recall: 0.064\n"
     ]
    }
   ],
   "source": [
    "# gridsearch로 찾은 최적 하이퍼파라미터 사용\n",
    "lr_clf_new = LogisticRegression(C=0.1)\n",
    "lr_clf_new.fit(x_train, y_train)\n",
    "pred_new = lr_clf_new.predict(x_val)\n",
    "print('accuracy: {:.3f}'.format(accuracy_score(y_val, pred_new)))\n",
    "print('Precision: {:0.3f}'.format(precision_score(y_val, pred_new, average='macro')))\n",
    "print('recall: {:0.3f}'.format(recall_score(y_val, pred_new, average='macro')))"
   ]
  },
  {
   "cell_type": "code",
   "execution_count": 79,
   "id": "be8fc09c",
   "metadata": {},
   "outputs": [
    {
     "name": "stdout",
     "output_type": "stream",
     "text": [
      "accuracy: 0.321\n",
      "Precision: 0.079\n",
      "recall: 0.075\n"
     ]
    }
   ],
   "source": [
    "# test결과\n",
    "lr_preds_t = classifier.predict(x_test)\n",
    "\n",
    "print('accuracy: {:0.3f}'.format(accuracy_score(y_test, lr_preds_t)))\n",
    "print('Precision: {:0.3f}'.format(precision_score(y_test, lr_preds_t, average='macro')))\n",
    "print('recall: {:0.3f}'.format(recall_score(y_test, lr_preds_t, average='macro')))"
   ]
  },
  {
   "cell_type": "code",
   "execution_count": 78,
   "id": "b6f9de82",
   "metadata": {},
   "outputs": [
    {
     "name": "stdout",
     "output_type": "stream",
     "text": [
      "True : 3, Predict : 3\n",
      "True : 23, Predict : 3\n",
      "True : 3, Predict : 3\n",
      "True : 4, Predict : 3\n",
      "True : 19, Predict : 15\n",
      "True : 20, Predict : 3\n",
      "True : 3, Predict : 3\n",
      "True : 35, Predict : 3\n",
      "True : 3, Predict : 4\n",
      "True : 3, Predict : 3\n",
      "True : 3, Predict : 3\n",
      "True : 19, Predict : 40\n",
      "True : 28, Predict : 38\n",
      "True : 3, Predict : 3\n",
      "True : 9, Predict : 4\n",
      "15개 중 모델이 일치한 것의 개수 :  6\n"
     ]
    }
   ],
   "source": [
    "# 모델 사용결과\n",
    "xhat_idx = np.random.choice(x_test.shape[0], 15)\n",
    "xhat = x_test[xhat_idx]\n",
    "yhat = lr_clf_new.predict(xhat)\n",
    "\n",
    "num=0\n",
    "for i in range(15):\n",
    "    print('True : ' + str(y_test[xhat_idx[i]]) + ', Predict : ' + str(yhat[i]))\n",
    "    if str(y_test[xhat_idx[i]]) == str(yhat[i]):\n",
    "        num+=1\n",
    "\n",
    "print(\"15개 중 모델이 일치한 것의 개수 : \", num)"
   ]
  },
  {
   "cell_type": "code",
   "execution_count": null,
   "id": "f10eb536",
   "metadata": {},
   "outputs": [],
   "source": []
  }
 ],
 "metadata": {
  "kernelspec": {
   "display_name": "Python 3",
   "language": "python",
   "name": "python3"
  },
  "language_info": {
   "codemirror_mode": {
    "name": "ipython",
    "version": 3
   },
   "file_extension": ".py",
   "mimetype": "text/x-python",
   "name": "python",
   "nbconvert_exporter": "python",
   "pygments_lexer": "ipython3",
   "version": "3.8.8"
  }
 },
 "nbformat": 4,
 "nbformat_minor": 5
}
